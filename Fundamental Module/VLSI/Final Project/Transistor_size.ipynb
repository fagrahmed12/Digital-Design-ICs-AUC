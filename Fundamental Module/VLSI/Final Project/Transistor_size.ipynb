{
  "nbformat": 4,
  "nbformat_minor": 0,
  "metadata": {
    "colab": {
      "provenance": []
    },
    "kernelspec": {
      "name": "python3",
      "display_name": "Python 3"
    },
    "language_info": {
      "name": "python"
    }
  },
  "cells": [
    {
      "cell_type": "markdown",
      "source": [
        "Implement a software algorithm using Python to identify transistor sizes in CMOS\n",
        "combinational logic circuits. The transistor sizes should be selected in a way that meets minimum\n",
        "area, makes tpHL = tpLH, and achieve minimum delay\n",
        "\n",
        "Using Numpy libaray\n",
        "\n",
        "General Code"
      ],
      "metadata": {
        "id": "kTtNCLQhgeUU"
      }
    },
    {
      "cell_type": "code",
      "source": [
        "import numpy as np\n",
        "from scipy.optimize import minimize\n",
        "\n",
        "def objective(x):        # Objective: minimize the overall delay while considering area and tpHL = tpLH\n",
        "\n",
        "    return x[0] * (x[1] + x[2]) + x[3]\n",
        "\n",
        "def constraint1(x):     # Constraint 1: Area Constraint\n",
        "\n",
        "    return x[0] * (x[1] + x[2])\n",
        "\n",
        "def constraint2(x):     # Constraint 2: tpHL = tpLH\n",
        "\n",
        "    return x[1] * x[2] - x[3]\n",
        "\n",
        "# initial guesses\n",
        "n = 4\n",
        "x0 = np.zeros(n)\n",
        "x0[0] = 1.0  # Width of PMOS\n",
        "x0[1] = 1.0  # Width of NMOS1\n",
        "x0[2] = 1.0  # Width of NMOS2\n",
        "x0[3] = 1.0  # Length of NMOS1 and NMOS2\n",
        "\n",
        "# bounds for transistor sizes\n",
        "bounds = [(1.0, 5.0), (0.1, 5.0), (0.1, 5.0), (0.1, 5.0)]\n",
        "\n",
        "# show initial objective\n",
        "print('Initial Objective: ' + str(objective(x0)))\n",
        "\n",
        "# define constraints\n",
        "con1 = {'type': 'ineq', 'fun': constraint1}\n",
        "con2 = {'type': 'eq', 'fun': constraint2}\n",
        "constraints = [con1, con2]\n",
        "\n",
        "# optimize\n",
        "solution = minimize(objective, x0, method='SLSQP', bounds=bounds, constraints=constraints)\n",
        "x = solution.x\n",
        "\n",
        "# show final objective\n",
        "print('Final Objective: ' + str(objective(x)))\n",
        "\n",
        "# print solution\n",
        "print('Solution:')\n",
        "print('Width of PMOS: ' + str(x[0]))\n",
        "print('Width of NMOS1: ' + str(x[1]))\n",
        "print('Width of NMOS2: ' + str(x[2]))\n",
        "print('Length of NMOS1 and NMOS2: ' + str(x[3]))\n"
      ],
      "metadata": {
        "colab": {
          "base_uri": "https://localhost:8080/"
        },
        "id": "0UJqMSgggCU0",
        "outputId": "75f2291f-db83-422a-f2d7-d366ac04e67b"
      },
      "execution_count": 2,
      "outputs": [
        {
          "output_type": "stream",
          "name": "stdout",
          "text": [
            "Initial Objective: 3.0\n",
            "Final Objective: 0.7324555330351467\n",
            "Solution:\n",
            "Width of PMOS: 1.0\n",
            "Width of NMOS1: 0.3162277665175696\n",
            "Width of NMOS2: 0.316227766517577\n",
            "Length of NMOS1 and NMOS2: 0.1\n"
          ]
        },
        {
          "output_type": "stream",
          "name": "stderr",
          "text": [
            "/usr/local/lib/python3.10/dist-packages/scipy/optimize/_optimize.py:404: RuntimeWarning: Values in x were outside bounds during a minimize step, clipping to bounds\n",
            "  warnings.warn(\"Values in x were outside bounds during a \"\n"
          ]
        }
      ]
    },
    {
      "cell_type": "markdown",
      "source": [
        "This Code Is othe solution using Deap libarary"
      ],
      "metadata": {
        "id": "QClDndA0gR6_"
      }
    },
    {
      "cell_type": "code",
      "source": [
        "pip install deap\n"
      ],
      "metadata": {
        "colab": {
          "base_uri": "https://localhost:8080/"
        },
        "id": "tKa8lGZWR3I4",
        "outputId": "35a9cb6c-b14d-4ce5-a9f7-0f4921626668"
      },
      "execution_count": null,
      "outputs": [
        {
          "output_type": "stream",
          "name": "stdout",
          "text": [
            "Collecting deap\n",
            "  Downloading deap-1.4.1-cp310-cp310-manylinux_2_5_x86_64.manylinux1_x86_64.manylinux_2_17_x86_64.manylinux2014_x86_64.whl (135 kB)\n",
            "\u001b[2K     \u001b[90m━━━━━━━━━━━━━━━━━━━━━━━━━━━━━━━━━━━━━━━━\u001b[0m \u001b[32m135.4/135.4 kB\u001b[0m \u001b[31m1.9 MB/s\u001b[0m eta \u001b[36m0:00:00\u001b[0m\n",
            "\u001b[?25hRequirement already satisfied: numpy in /usr/local/lib/python3.10/dist-packages (from deap) (1.23.5)\n",
            "Installing collected packages: deap\n",
            "Successfully installed deap-1.4.1\n"
          ]
        }
      ]
    },
    {
      "cell_type": "code",
      "source": [
        "import random\n",
        "from deap import base, creator, tools, algorithms\n",
        "\n",
        "# Define problem as a minimization problem\n",
        "creator.create(\"FitnessMin\", base.Fitness, weights=(-1.0,))\n",
        "creator.create(\"Individual\", list, fitness=creator.FitnessMin)\n",
        "\n",
        "# Define transistor sizes (widths) for the circuit\n",
        "MIN_WIDTH = 0.1\n",
        "MAX_WIDTH = 10.0\n",
        "\n",
        "# Define circuit parameters\n",
        "Vdd = 1.8  # Supply voltage\n",
        "Istatic_max = 1e-6  # Maximum static current\n",
        "Cload =1\n",
        "frequency=50\n",
        "\n",
        "# Define the truth table for a 2-input NAND gate\n",
        "truth_table = [\n",
        "    (0, 0, 1),\n",
        "    (0, 1, 1),\n",
        "    (1, 0, 1),\n",
        "    (1, 1, 0)\n",
        "]\n",
        "\n",
        "# Function to simulate the circuit and calculate fitness\n",
        "def evaluate(individual):\n",
        "    # Extract transistor sizes from the individual\n",
        "    w1, w2, w3 = individual\n",
        "\n",
        "    # Calculate dynamic power (Pdynamic) based on the truth table\n",
        "    Pdynamic = 0.0\n",
        "    for inputs in truth_table:\n",
        "        A, B, output = inputs\n",
        "        inputs_voltage = [A * Vdd, B * Vdd]\n",
        "        output_voltage = output * Vdd\n",
        "\n",
        "        # Simulate the circuit (you would replace this with your simulation method)\n",
        "        # For simplicity, we assume an ideal model without considering delay\n",
        "        output_simulated = (inputs_voltage[0] and inputs_voltage[1]) * Vdd\n",
        "\n",
        "        # Calculate dynamic power based on the simulated output\n",
        "        Pdynamic += 0.5 * Cload * Vdd**2 * frequency  # Modify as needed\n",
        "\n",
        "    # Calculate static power (Pstatic)\n",
        "    Pstatic = Istatic_max * Vdd\n",
        "\n",
        "    # The fitness is the sum of dynamic and static power\n",
        "    fitness = Pdynamic + Pstatic\n",
        "\n",
        "    return (fitness,)\n",
        "\n",
        "# Genetic Algorithm parameters\n",
        "POP_SIZE = 10\n",
        "NGEN = 10\n",
        "CXPB = 0.7\n",
        "MUTPB = 0.2\n",
        "\n",
        "# Create the toolbox\n",
        "toolbox = base.Toolbox()\n",
        "toolbox.register(\"attr_float\", random.uniform, MIN_WIDTH, MAX_WIDTH)\n",
        "toolbox.register(\"individual\", tools.initRepeat, creator.Individual, toolbox.attr_float, n=3)\n",
        "toolbox.register(\"population\", tools.initRepeat, list, toolbox.individual)\n",
        "\n",
        "toolbox.register(\"evaluate\", evaluate)\n",
        "toolbox.register(\"mate\", tools.cxBlend, alpha=0.5)\n",
        "toolbox.register(\"mutate\", tools.mutGaussian, mu=0, sigma=1, indpb=0.2)\n",
        "toolbox.register(\"select\", tools.selTournament, tournsize=3)\n",
        "\n",
        "# Create an initial population\n",
        "population = toolbox.population(n=POP_SIZE)\n",
        "\n",
        "# Run the algorithm\n",
        "algorithms.eaMuPlusLambda(population, toolbox, mu=POP_SIZE, lambda_=2*POP_SIZE, cxpb=CXPB, mutpb=MUTPB, ngen=NGEN, stats=None, halloffame=None, verbose=True)\n",
        "\n",
        "# Print the best individual at the end\n",
        "best_ind = tools.selBest(population, k=1)[0]\n",
        "print(\"Best Individual:\", best_ind, \"Fitness:\", best_ind.fitness.values)\n"
      ],
      "metadata": {
        "colab": {
          "base_uri": "https://localhost:8080/"
        },
        "id": "rswsKJTZSAlY",
        "outputId": "e3e30f44-08b6-4588-af06-517b8c25ffe4"
      },
      "execution_count": null,
      "outputs": [
        {
          "output_type": "stream",
          "name": "stdout",
          "text": [
            "gen\tnevals\n",
            "0  \t10    \n",
            "1  \t18    \n",
            "2  \t17    \n",
            "3  \t16    \n",
            "4  \t19    \n",
            "5  \t20    \n",
            "6  \t20    \n",
            "7  \t19    \n",
            "8  \t19    \n",
            "9  \t19    \n",
            "10 \t18    \n",
            "Best Individual: [10.792036486570206, 6.511954050846534, 2.8729459200167793] Fitness: (324.0000018,)\n"
          ]
        }
      ]
    },
    {
      "cell_type": "code",
      "source": [
        "import random\n",
        "from deap import base, creator, tools, algorithms\n",
        "\n",
        "# Define problem as a minimization problem\n",
        "creator.create(\"FitnessMin\", base.Fitness, weights=(-1.0,))\n",
        "creator.create(\"Individual\", list, fitness=creator.FitnessMin)\n",
        "\n",
        "# Define transistor sizes (widths)\n",
        "MIN_WIDTH = 0.1\n",
        "MAX_WIDTH = 10.0\n",
        "\n",
        "# Define circuit parameters\n",
        "Vdd = 1.8  # Supply voltage\n",
        "Istatic_max = 1e-6  # Maximum static current\n",
        "Cload =1\n",
        "frequency = 50\n",
        "\n",
        "# Define the truth table for a 4-input NAND gate\n",
        "truth_table = [\n",
        "    (0, 0, 0, 0, 1),\n",
        "    (0, 0, 0, 1, 1),\n",
        "    (0, 0, 1, 0, 1),\n",
        "    (0, 0, 1, 1, 1),\n",
        "    # ... (complete the truth table)\n",
        "]\n",
        "\n",
        "# Function to simulate the circuit and calculate fitness\n",
        "def evaluate(individual):\n",
        "    # Extract transistor sizes from the individual\n",
        "    w1, w2, w3, w4, w5 = individual\n",
        "\n",
        "    # Calculate dynamic power (Pdynamic) based on the truth table\n",
        "    Pdynamic = 0.0\n",
        "    for inputs in truth_table:\n",
        "        inputs_voltage = [input_val * Vdd for input_val in inputs[:-1]]\n",
        "        output_voltage = inputs[-1] * Vdd\n",
        "\n",
        "        # Simulate the circuit (replace this with your simulation method)\n",
        "        # For simplicity, we assume an ideal model without considering delay\n",
        "        output_simulated = not all(inputs)\n",
        "\n",
        "        # Calculate dynamic power based on the simulated output\n",
        "        Pdynamic += 0.5 * Cload * Vdd**2 * frequency  # Modify as needed\n",
        "\n",
        "    # Calculate static power (Pstatic)\n",
        "    Pstatic = Istatic_max * Vdd\n",
        "\n",
        "    # The fitness is the sum of dynamic and static power\n",
        "    fitness = Pdynamic + Pstatic\n",
        "\n",
        "    return (fitness,)\n",
        "\n",
        "# Genetic Algorithm parameters\n",
        "POP_SIZE = 10\n",
        "NGEN = 10\n",
        "CXPB = 0.7\n",
        "MUTPB = 0.2\n",
        "\n",
        "# Create the toolbox\n",
        "toolbox = base.Toolbox()\n",
        "toolbox.register(\"attr_float\", random.uniform, MIN_WIDTH, MAX_WIDTH)\n",
        "toolbox.register(\"individual\", tools.initRepeat, creator.Individual, toolbox.attr_float, n=5)\n",
        "toolbox.register(\"population\", tools.initRepeat, list, toolbox.individual)\n",
        "\n",
        "toolbox.register(\"evaluate\", evaluate)\n",
        "toolbox.register(\"mate\", tools.cxBlend, alpha=0.5)\n",
        "toolbox.register(\"mutate\", tools.mutGaussian, mu=0, sigma=1, indpb=0.2)\n",
        "toolbox.register(\"select\", tools.selTournament, tournsize=3)\n",
        "\n",
        "# Create an initial population\n",
        "population = toolbox.population(n=POP_SIZE)\n",
        "\n",
        "# Run the algorithm\n",
        "algorithms.eaMuPlusLambda(population, toolbox, mu=POP_SIZE, lambda_=2*POP_SIZE, cxpb=CXPB, mutpb=MUTPB, ngen=NGEN, stats=None, halloffame=None, verbose=True)\n",
        "\n",
        "# Print the best individual at the end\n",
        "best_ind = tools.selBest(population, k=1)[0]\n",
        "print(\"Best Individual:\", best_ind, \"Fitness:\", best_ind.fitness.values)\n"
      ],
      "metadata": {
        "colab": {
          "base_uri": "https://localhost:8080/"
        },
        "id": "QXZDnQOOs9bF",
        "outputId": "7d1e9e26-aa34-425d-b633-f9cc13b49a1d"
      },
      "execution_count": null,
      "outputs": [
        {
          "output_type": "stream",
          "name": "stdout",
          "text": [
            "gen\tnevals\n",
            "0  \t10    \n",
            "1  \t16    \n",
            "2  \t19    \n",
            "3  \t19    \n",
            "4  \t15    \n",
            "5  \t18    \n",
            "6  \t20    \n",
            "7  \t15    \n",
            "8  \t18    \n",
            "9  \t17    \n",
            "10 \t17    \n",
            "Best Individual: [0.3795770626535392, -1.324493128670094, 3.300453225911898, 5.203688550882943, 8.337924255814645] Fitness: (324.0000018,)\n"
          ]
        },
        {
          "output_type": "stream",
          "name": "stderr",
          "text": [
            "/usr/local/lib/python3.10/dist-packages/deap/creator.py:185: RuntimeWarning: A class named 'FitnessMin' has already been created and it will be overwritten. Consider deleting previous creation of that class or rename it.\n",
            "  warnings.warn(\"A class named '{0}' has already been created and it \"\n",
            "/usr/local/lib/python3.10/dist-packages/deap/creator.py:185: RuntimeWarning: A class named 'Individual' has already been created and it will be overwritten. Consider deleting previous creation of that class or rename it.\n",
            "  warnings.warn(\"A class named '{0}' has already been created and it \"\n"
          ]
        }
      ]
    },
    {
      "cell_type": "code",
      "source": [
        "import numpy as np\n",
        "from scipy.optimize import minimize\n",
        "\n",
        "def objective(x):\n",
        "    return x[0]*x[3]*(x[0]+x[1]+x[2])+x[2]\n",
        "\n",
        "def constraint1(x):\n",
        "    return x[0]*x[1]*x[2]*x[3]-25.0\n",
        "\n",
        "def constraint2(x):\n",
        "    sum_eq = 40.0\n",
        "    for i in range(4):\n",
        "        sum_eq = sum_eq - x[i]**2\n",
        "    return sum_eq\n",
        "\n",
        "# initial guesses\n",
        "n = 4\n",
        "x0 = np.zeros(n)\n",
        "x0[0] = 1.0\n",
        "x0[1] = 5.0\n",
        "x0[2] = 5.0\n",
        "x0[3] = 1.0\n",
        "\n",
        "# show initial objective\n",
        "print('Initial SSE Objective: ' + str(objective(x0)))\n",
        "\n",
        "# optimize\n",
        "b = (1.0,5.0)\n",
        "bnds = (b, b, b, b)\n",
        "con1 = {'type': 'ineq', 'fun': constraint1}\n",
        "con2 = {'type': 'eq', 'fun': constraint2}\n",
        "cons = ([con1,con2])\n",
        "solution = minimize(objective,x0,method='SLSQP',\\\n",
        "                    bounds=bnds,constraints=cons)\n",
        "x = solution.x\n",
        "\n",
        "# show final objective\n",
        "print('Final SSE Objective: ' + str(objective(x)))\n",
        "\n",
        "# print solution\n",
        "print('Solution')\n",
        "print('x1 = ' + str(x[0]))\n",
        "print('x2 = ' + str(x[1]))\n",
        "print('x3 = ' + str(x[2]))\n",
        "print('x4 = ' + str(x[3]))"
      ],
      "metadata": {
        "id": "15Cs4poPS_Vv",
        "colab": {
          "base_uri": "https://localhost:8080/"
        },
        "outputId": "767508af-cd3f-40ea-f4d4-73e16d3397ef"
      },
      "execution_count": 1,
      "outputs": [
        {
          "output_type": "stream",
          "name": "stdout",
          "text": [
            "Initial SSE Objective: 16.0\n",
            "Final SSE Objective: 17.01401724563517\n",
            "Solution\n",
            "x1 = 1.0\n",
            "x2 = 4.742996096883977\n",
            "x3 = 3.8211546234095715\n",
            "x4 = 1.379407645075325\n"
          ]
        }
      ]
    }
  ]
}